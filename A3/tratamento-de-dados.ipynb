{
 "cells": [
  {
   "cell_type": "markdown",
   "id": "346c6d78-ea20-4059-80bd-3d266b544e05",
   "metadata": {},
   "source": [
    "# Tratamento de dados\n",
    "\n",
    "## Importar as bibliotecas necessárias"
   ]
  },
  {
   "cell_type": "code",
   "execution_count": 1,
   "id": "072588c7-ed9c-45b1-901e-5c0a4f747575",
   "metadata": {
    "tags": []
   },
   "outputs": [],
   "source": [
    "import pandas as pd\n",
    "import matplotlib.pyplot as plt"
   ]
  },
  {
   "cell_type": "markdown",
   "id": "97c01f9a-480a-44d8-856d-f38ac2136809",
   "metadata": {},
   "source": [
    "## Importar os dados iniciais"
   ]
  },
  {
   "cell_type": "code",
   "execution_count": 2,
   "id": "0da3907d-ca45-44e7-ab43-c6dd2a1f59e0",
   "metadata": {
    "tags": []
   },
   "outputs": [
    {
     "data": {
      "text/html": [
       "<div>\n",
       "<style scoped>\n",
       "    .dataframe tbody tr th:only-of-type {\n",
       "        vertical-align: middle;\n",
       "    }\n",
       "\n",
       "    .dataframe tbody tr th {\n",
       "        vertical-align: top;\n",
       "    }\n",
       "\n",
       "    .dataframe thead th {\n",
       "        text-align: right;\n",
       "    }\n",
       "</style>\n",
       "<table border=\"1\" class=\"dataframe\">\n",
       "  <thead>\n",
       "    <tr style=\"text-align: right;\">\n",
       "      <th></th>\n",
       "      <th>city</th>\n",
       "      <th>area</th>\n",
       "      <th>rooms</th>\n",
       "      <th>bathroom</th>\n",
       "      <th>parking spaces</th>\n",
       "      <th>floor</th>\n",
       "      <th>animal</th>\n",
       "      <th>furniture</th>\n",
       "      <th>hoa (R$)</th>\n",
       "      <th>rent amount (R$)</th>\n",
       "      <th>property tax (R$)</th>\n",
       "      <th>fire insurance (R$)</th>\n",
       "      <th>total (R$)</th>\n",
       "    </tr>\n",
       "  </thead>\n",
       "  <tbody>\n",
       "    <tr>\n",
       "      <th>0</th>\n",
       "      <td>São Paulo</td>\n",
       "      <td>70</td>\n",
       "      <td>2</td>\n",
       "      <td>1</td>\n",
       "      <td>1</td>\n",
       "      <td>7</td>\n",
       "      <td>acept</td>\n",
       "      <td>furnished</td>\n",
       "      <td>2065</td>\n",
       "      <td>3300</td>\n",
       "      <td>211</td>\n",
       "      <td>42</td>\n",
       "      <td>5618</td>\n",
       "    </tr>\n",
       "    <tr>\n",
       "      <th>1</th>\n",
       "      <td>São Paulo</td>\n",
       "      <td>320</td>\n",
       "      <td>4</td>\n",
       "      <td>4</td>\n",
       "      <td>0</td>\n",
       "      <td>20</td>\n",
       "      <td>acept</td>\n",
       "      <td>not furnished</td>\n",
       "      <td>1200</td>\n",
       "      <td>4960</td>\n",
       "      <td>1750</td>\n",
       "      <td>63</td>\n",
       "      <td>7973</td>\n",
       "    </tr>\n",
       "    <tr>\n",
       "      <th>2</th>\n",
       "      <td>Porto Alegre</td>\n",
       "      <td>80</td>\n",
       "      <td>1</td>\n",
       "      <td>1</td>\n",
       "      <td>1</td>\n",
       "      <td>6</td>\n",
       "      <td>acept</td>\n",
       "      <td>not furnished</td>\n",
       "      <td>1000</td>\n",
       "      <td>2800</td>\n",
       "      <td>0</td>\n",
       "      <td>41</td>\n",
       "      <td>3841</td>\n",
       "    </tr>\n",
       "    <tr>\n",
       "      <th>3</th>\n",
       "      <td>Porto Alegre</td>\n",
       "      <td>51</td>\n",
       "      <td>2</td>\n",
       "      <td>1</td>\n",
       "      <td>0</td>\n",
       "      <td>2</td>\n",
       "      <td>acept</td>\n",
       "      <td>not furnished</td>\n",
       "      <td>270</td>\n",
       "      <td>1112</td>\n",
       "      <td>22</td>\n",
       "      <td>17</td>\n",
       "      <td>1421</td>\n",
       "    </tr>\n",
       "    <tr>\n",
       "      <th>4</th>\n",
       "      <td>São Paulo</td>\n",
       "      <td>25</td>\n",
       "      <td>1</td>\n",
       "      <td>1</td>\n",
       "      <td>0</td>\n",
       "      <td>1</td>\n",
       "      <td>not acept</td>\n",
       "      <td>not furnished</td>\n",
       "      <td>0</td>\n",
       "      <td>800</td>\n",
       "      <td>25</td>\n",
       "      <td>11</td>\n",
       "      <td>836</td>\n",
       "    </tr>\n",
       "  </tbody>\n",
       "</table>\n",
       "</div>"
      ],
      "text/plain": [
       "           city  area  rooms  bathroom  parking spaces floor     animal  \\\n",
       "0     São Paulo    70      2         1               1     7      acept   \n",
       "1     São Paulo   320      4         4               0    20      acept   \n",
       "2  Porto Alegre    80      1         1               1     6      acept   \n",
       "3  Porto Alegre    51      2         1               0     2      acept   \n",
       "4     São Paulo    25      1         1               0     1  not acept   \n",
       "\n",
       "       furniture  hoa (R$)  rent amount (R$)  property tax (R$)  \\\n",
       "0      furnished      2065              3300                211   \n",
       "1  not furnished      1200              4960               1750   \n",
       "2  not furnished      1000              2800                  0   \n",
       "3  not furnished       270              1112                 22   \n",
       "4  not furnished         0               800                 25   \n",
       "\n",
       "   fire insurance (R$)  total (R$)  \n",
       "0                   42        5618  \n",
       "1                   63        7973  \n",
       "2                   41        3841  \n",
       "3                   17        1421  \n",
       "4                   11         836  "
      ]
     },
     "execution_count": 2,
     "metadata": {},
     "output_type": "execute_result"
    }
   ],
   "source": [
    "data = pd.read_csv('../csv-data/houses_to_rent_v2.csv')\n",
    "data.head()"
   ]
  },
  {
   "cell_type": "markdown",
   "id": "dbd6472f-d959-4102-ab2c-57373e189643",
   "metadata": {},
   "source": [
    "## Tratamento de entradas duplicadas\n",
    "\n",
    "Iremos usar as funções *duplicated* e *value_counts* para procurar por entradas duplicadas no nosso dataset, em caso positivo, iremos usar a função *drop_duplicates* para remover as entradas duplicadas:"
   ]
  },
  {
   "cell_type": "code",
   "execution_count": 3,
   "id": "86e5c22a-751e-481b-99c5-28b426c0618d",
   "metadata": {
    "tags": []
   },
   "outputs": [
    {
     "data": {
      "text/plain": [
       "False    10334\n",
       "True       358\n",
       "dtype: int64"
      ]
     },
     "execution_count": 3,
     "metadata": {},
     "output_type": "execute_result"
    }
   ],
   "source": [
    "data.duplicated().value_counts()"
   ]
  },
  {
   "cell_type": "code",
   "execution_count": 4,
   "id": "3810b6ad-bdb1-4b80-b11e-5f4fb5cfc274",
   "metadata": {
    "tags": []
   },
   "outputs": [
    {
     "data": {
      "text/plain": [
       "False    10334\n",
       "dtype: int64"
      ]
     },
     "execution_count": 4,
     "metadata": {},
     "output_type": "execute_result"
    }
   ],
   "source": [
    "data.drop_duplicates(inplace=True)\n",
    "data.duplicated().value_counts()"
   ]
  },
  {
   "cell_type": "markdown",
   "id": "5cba0e86-665f-41e2-880a-dd330f8b8fc2",
   "metadata": {},
   "source": [
    "## Tratamento de colunas com dados qualitativos e dados não numéricos\n",
    "\n",
    "Podemos notar que as colunas 'city', 'animal' e 'furniture' estão contendo dados qualitativos, para nossos objetivos, precisaremos converter estes dados em dados quantitativos, iremos começar pela coluna 'city'.\n",
    "\n",
    "Iremos usar a função *get_dummies* do Pandas para converter cada valor qualitativo de 'city' em uma coluna correspondendo ao valor, usando 1 para 'sim' e 0 para 'não, utilizaremos também o prefixo 'city_' para melhor entendimento. Por exemplo, o valor 'Rio de Janeiro' se tornará a coluna 'city_Rio de Janeiro', e poderá ter os valores 1 caso o imóvel esteja localizado na cidade do Rio de Janeiro, ou 0 caso não esteja. Ao final, removeremos a coluna 'city' dos nossos dados, já que não teremos mais utilidade para ela."
   ]
  },
  {
   "cell_type": "code",
   "execution_count": 5,
   "id": "4b9c775c-cd88-4d79-8231-8c83200d130a",
   "metadata": {
    "tags": []
   },
   "outputs": [
    {
     "data": {
      "text/html": [
       "<div>\n",
       "<style scoped>\n",
       "    .dataframe tbody tr th:only-of-type {\n",
       "        vertical-align: middle;\n",
       "    }\n",
       "\n",
       "    .dataframe tbody tr th {\n",
       "        vertical-align: top;\n",
       "    }\n",
       "\n",
       "    .dataframe thead th {\n",
       "        text-align: right;\n",
       "    }\n",
       "</style>\n",
       "<table border=\"1\" class=\"dataframe\">\n",
       "  <thead>\n",
       "    <tr style=\"text-align: right;\">\n",
       "      <th></th>\n",
       "      <th>area</th>\n",
       "      <th>rooms</th>\n",
       "      <th>bathroom</th>\n",
       "      <th>parking spaces</th>\n",
       "      <th>floor</th>\n",
       "      <th>animal</th>\n",
       "      <th>furniture</th>\n",
       "      <th>hoa (R$)</th>\n",
       "      <th>rent amount (R$)</th>\n",
       "      <th>property tax (R$)</th>\n",
       "      <th>fire insurance (R$)</th>\n",
       "      <th>total (R$)</th>\n",
       "      <th>city_Belo Horizonte</th>\n",
       "      <th>city_Campinas</th>\n",
       "      <th>city_Porto Alegre</th>\n",
       "      <th>city_Rio de Janeiro</th>\n",
       "      <th>city_São Paulo</th>\n",
       "    </tr>\n",
       "  </thead>\n",
       "  <tbody>\n",
       "    <tr>\n",
       "      <th>0</th>\n",
       "      <td>70</td>\n",
       "      <td>2</td>\n",
       "      <td>1</td>\n",
       "      <td>1</td>\n",
       "      <td>7</td>\n",
       "      <td>acept</td>\n",
       "      <td>furnished</td>\n",
       "      <td>2065</td>\n",
       "      <td>3300</td>\n",
       "      <td>211</td>\n",
       "      <td>42</td>\n",
       "      <td>5618</td>\n",
       "      <td>0</td>\n",
       "      <td>0</td>\n",
       "      <td>0</td>\n",
       "      <td>0</td>\n",
       "      <td>1</td>\n",
       "    </tr>\n",
       "    <tr>\n",
       "      <th>1</th>\n",
       "      <td>320</td>\n",
       "      <td>4</td>\n",
       "      <td>4</td>\n",
       "      <td>0</td>\n",
       "      <td>20</td>\n",
       "      <td>acept</td>\n",
       "      <td>not furnished</td>\n",
       "      <td>1200</td>\n",
       "      <td>4960</td>\n",
       "      <td>1750</td>\n",
       "      <td>63</td>\n",
       "      <td>7973</td>\n",
       "      <td>0</td>\n",
       "      <td>0</td>\n",
       "      <td>0</td>\n",
       "      <td>0</td>\n",
       "      <td>1</td>\n",
       "    </tr>\n",
       "    <tr>\n",
       "      <th>2</th>\n",
       "      <td>80</td>\n",
       "      <td>1</td>\n",
       "      <td>1</td>\n",
       "      <td>1</td>\n",
       "      <td>6</td>\n",
       "      <td>acept</td>\n",
       "      <td>not furnished</td>\n",
       "      <td>1000</td>\n",
       "      <td>2800</td>\n",
       "      <td>0</td>\n",
       "      <td>41</td>\n",
       "      <td>3841</td>\n",
       "      <td>0</td>\n",
       "      <td>0</td>\n",
       "      <td>1</td>\n",
       "      <td>0</td>\n",
       "      <td>0</td>\n",
       "    </tr>\n",
       "    <tr>\n",
       "      <th>3</th>\n",
       "      <td>51</td>\n",
       "      <td>2</td>\n",
       "      <td>1</td>\n",
       "      <td>0</td>\n",
       "      <td>2</td>\n",
       "      <td>acept</td>\n",
       "      <td>not furnished</td>\n",
       "      <td>270</td>\n",
       "      <td>1112</td>\n",
       "      <td>22</td>\n",
       "      <td>17</td>\n",
       "      <td>1421</td>\n",
       "      <td>0</td>\n",
       "      <td>0</td>\n",
       "      <td>1</td>\n",
       "      <td>0</td>\n",
       "      <td>0</td>\n",
       "    </tr>\n",
       "    <tr>\n",
       "      <th>4</th>\n",
       "      <td>25</td>\n",
       "      <td>1</td>\n",
       "      <td>1</td>\n",
       "      <td>0</td>\n",
       "      <td>1</td>\n",
       "      <td>not acept</td>\n",
       "      <td>not furnished</td>\n",
       "      <td>0</td>\n",
       "      <td>800</td>\n",
       "      <td>25</td>\n",
       "      <td>11</td>\n",
       "      <td>836</td>\n",
       "      <td>0</td>\n",
       "      <td>0</td>\n",
       "      <td>0</td>\n",
       "      <td>0</td>\n",
       "      <td>1</td>\n",
       "    </tr>\n",
       "  </tbody>\n",
       "</table>\n",
       "</div>"
      ],
      "text/plain": [
       "   area  rooms  bathroom  parking spaces floor     animal      furniture  \\\n",
       "0    70      2         1               1     7      acept      furnished   \n",
       "1   320      4         4               0    20      acept  not furnished   \n",
       "2    80      1         1               1     6      acept  not furnished   \n",
       "3    51      2         1               0     2      acept  not furnished   \n",
       "4    25      1         1               0     1  not acept  not furnished   \n",
       "\n",
       "   hoa (R$)  rent amount (R$)  property tax (R$)  fire insurance (R$)  \\\n",
       "0      2065              3300                211                   42   \n",
       "1      1200              4960               1750                   63   \n",
       "2      1000              2800                  0                   41   \n",
       "3       270              1112                 22                   17   \n",
       "4         0               800                 25                   11   \n",
       "\n",
       "   total (R$)  city_Belo Horizonte  city_Campinas  city_Porto Alegre  \\\n",
       "0        5618                    0              0                  0   \n",
       "1        7973                    0              0                  0   \n",
       "2        3841                    0              0                  1   \n",
       "3        1421                    0              0                  1   \n",
       "4         836                    0              0                  0   \n",
       "\n",
       "   city_Rio de Janeiro  city_São Paulo  \n",
       "0                    0               1  \n",
       "1                    0               1  \n",
       "2                    0               0  \n",
       "3                    0               0  \n",
       "4                    0               1  "
      ]
     },
     "execution_count": 5,
     "metadata": {},
     "output_type": "execute_result"
    }
   ],
   "source": [
    "data = data.join(pd.get_dummies(data.city, prefix='city')).drop(['city'], axis=1)\n",
    "data.head()"
   ]
  },
  {
   "cell_type": "markdown",
   "id": "15233171-efd4-402b-aa5b-06fe7044b0d9",
   "metadata": {
    "tags": []
   },
   "source": [
    "Para as colunas 'animal' e 'furniture' temos apenas valores de 'sim' e 'não', neste caso, podemos apenas transformar esses valores em 1 para 'sim' e 0 para 'não':"
   ]
  },
  {
   "cell_type": "code",
   "execution_count": 6,
   "id": "a8906ca3-4b12-4e3f-b946-5e8a0c2a6fe2",
   "metadata": {
    "tags": []
   },
   "outputs": [
    {
     "data": {
      "text/html": [
       "<div>\n",
       "<style scoped>\n",
       "    .dataframe tbody tr th:only-of-type {\n",
       "        vertical-align: middle;\n",
       "    }\n",
       "\n",
       "    .dataframe tbody tr th {\n",
       "        vertical-align: top;\n",
       "    }\n",
       "\n",
       "    .dataframe thead th {\n",
       "        text-align: right;\n",
       "    }\n",
       "</style>\n",
       "<table border=\"1\" class=\"dataframe\">\n",
       "  <thead>\n",
       "    <tr style=\"text-align: right;\">\n",
       "      <th></th>\n",
       "      <th>area</th>\n",
       "      <th>rooms</th>\n",
       "      <th>bathroom</th>\n",
       "      <th>parking spaces</th>\n",
       "      <th>floor</th>\n",
       "      <th>animal</th>\n",
       "      <th>furniture</th>\n",
       "      <th>hoa (R$)</th>\n",
       "      <th>rent amount (R$)</th>\n",
       "      <th>property tax (R$)</th>\n",
       "      <th>fire insurance (R$)</th>\n",
       "      <th>total (R$)</th>\n",
       "      <th>city_Belo Horizonte</th>\n",
       "      <th>city_Campinas</th>\n",
       "      <th>city_Porto Alegre</th>\n",
       "      <th>city_Rio de Janeiro</th>\n",
       "      <th>city_São Paulo</th>\n",
       "    </tr>\n",
       "  </thead>\n",
       "  <tbody>\n",
       "    <tr>\n",
       "      <th>0</th>\n",
       "      <td>70</td>\n",
       "      <td>2</td>\n",
       "      <td>1</td>\n",
       "      <td>1</td>\n",
       "      <td>7</td>\n",
       "      <td>1</td>\n",
       "      <td>1</td>\n",
       "      <td>2065</td>\n",
       "      <td>3300</td>\n",
       "      <td>211</td>\n",
       "      <td>42</td>\n",
       "      <td>5618</td>\n",
       "      <td>0</td>\n",
       "      <td>0</td>\n",
       "      <td>0</td>\n",
       "      <td>0</td>\n",
       "      <td>1</td>\n",
       "    </tr>\n",
       "    <tr>\n",
       "      <th>1</th>\n",
       "      <td>320</td>\n",
       "      <td>4</td>\n",
       "      <td>4</td>\n",
       "      <td>0</td>\n",
       "      <td>20</td>\n",
       "      <td>1</td>\n",
       "      <td>0</td>\n",
       "      <td>1200</td>\n",
       "      <td>4960</td>\n",
       "      <td>1750</td>\n",
       "      <td>63</td>\n",
       "      <td>7973</td>\n",
       "      <td>0</td>\n",
       "      <td>0</td>\n",
       "      <td>0</td>\n",
       "      <td>0</td>\n",
       "      <td>1</td>\n",
       "    </tr>\n",
       "    <tr>\n",
       "      <th>2</th>\n",
       "      <td>80</td>\n",
       "      <td>1</td>\n",
       "      <td>1</td>\n",
       "      <td>1</td>\n",
       "      <td>6</td>\n",
       "      <td>1</td>\n",
       "      <td>0</td>\n",
       "      <td>1000</td>\n",
       "      <td>2800</td>\n",
       "      <td>0</td>\n",
       "      <td>41</td>\n",
       "      <td>3841</td>\n",
       "      <td>0</td>\n",
       "      <td>0</td>\n",
       "      <td>1</td>\n",
       "      <td>0</td>\n",
       "      <td>0</td>\n",
       "    </tr>\n",
       "    <tr>\n",
       "      <th>3</th>\n",
       "      <td>51</td>\n",
       "      <td>2</td>\n",
       "      <td>1</td>\n",
       "      <td>0</td>\n",
       "      <td>2</td>\n",
       "      <td>1</td>\n",
       "      <td>0</td>\n",
       "      <td>270</td>\n",
       "      <td>1112</td>\n",
       "      <td>22</td>\n",
       "      <td>17</td>\n",
       "      <td>1421</td>\n",
       "      <td>0</td>\n",
       "      <td>0</td>\n",
       "      <td>1</td>\n",
       "      <td>0</td>\n",
       "      <td>0</td>\n",
       "    </tr>\n",
       "    <tr>\n",
       "      <th>4</th>\n",
       "      <td>25</td>\n",
       "      <td>1</td>\n",
       "      <td>1</td>\n",
       "      <td>0</td>\n",
       "      <td>1</td>\n",
       "      <td>0</td>\n",
       "      <td>0</td>\n",
       "      <td>0</td>\n",
       "      <td>800</td>\n",
       "      <td>25</td>\n",
       "      <td>11</td>\n",
       "      <td>836</td>\n",
       "      <td>0</td>\n",
       "      <td>0</td>\n",
       "      <td>0</td>\n",
       "      <td>0</td>\n",
       "      <td>1</td>\n",
       "    </tr>\n",
       "  </tbody>\n",
       "</table>\n",
       "</div>"
      ],
      "text/plain": [
       "   area  rooms  bathroom  parking spaces floor animal furniture  hoa (R$)  \\\n",
       "0    70      2         1               1     7      1         1      2065   \n",
       "1   320      4         4               0    20      1         0      1200   \n",
       "2    80      1         1               1     6      1         0      1000   \n",
       "3    51      2         1               0     2      1         0       270   \n",
       "4    25      1         1               0     1      0         0         0   \n",
       "\n",
       "   rent amount (R$)  property tax (R$)  fire insurance (R$)  total (R$)  \\\n",
       "0              3300                211                   42        5618   \n",
       "1              4960               1750                   63        7973   \n",
       "2              2800                  0                   41        3841   \n",
       "3              1112                 22                   17        1421   \n",
       "4               800                 25                   11         836   \n",
       "\n",
       "   city_Belo Horizonte  city_Campinas  city_Porto Alegre  city_Rio de Janeiro  \\\n",
       "0                    0              0                  0                    0   \n",
       "1                    0              0                  0                    0   \n",
       "2                    0              0                  1                    0   \n",
       "3                    0              0                  1                    0   \n",
       "4                    0              0                  0                    0   \n",
       "\n",
       "   city_São Paulo  \n",
       "0               1  \n",
       "1               1  \n",
       "2               0  \n",
       "3               0  \n",
       "4               1  "
      ]
     },
     "execution_count": 6,
     "metadata": {},
     "output_type": "execute_result"
    }
   ],
   "source": [
    "data.loc[data.animal == 'acept', 'animal'] = 1\n",
    "data.loc[data.animal == 'not acept', 'animal'] = 0\n",
    "\n",
    "data.loc[data.furniture == 'furnished', 'furniture'] = 1\n",
    "data.loc[data.furniture == 'not furnished', 'furniture'] = 0\n",
    "\n",
    "data.head()"
   ]
  },
  {
   "cell_type": "markdown",
   "id": "9e3198ad-b002-420e-af7b-e8358967cb41",
   "metadata": {
    "tags": []
   },
   "source": [
    "Podemos notar também, na coluna 'floors', que imóveis sem andar estão marcados com '-', iremos converter esta informação para 0."
   ]
  },
  {
   "cell_type": "code",
   "execution_count": 7,
   "id": "1d19483e-569e-499b-98f0-3be7eeeae1e3",
   "metadata": {
    "tags": []
   },
   "outputs": [
    {
     "data": {
      "text/plain": [
       "-      2371\n",
       "1      1000\n",
       "2       952\n",
       "3       895\n",
       "4       727\n",
       "5       580\n",
       "6       530\n",
       "7       488\n",
       "8       486\n",
       "9       360\n",
       "10      352\n",
       "11      296\n",
       "12      255\n",
       "13      195\n",
       "14      168\n",
       "15      143\n",
       "16      108\n",
       "17       95\n",
       "18       74\n",
       "19       53\n",
       "20       43\n",
       "21       42\n",
       "22       24\n",
       "23       23\n",
       "25       19\n",
       "24       18\n",
       "26       13\n",
       "27        8\n",
       "28        5\n",
       "29        5\n",
       "32        2\n",
       "35        1\n",
       "46        1\n",
       "301       1\n",
       "51        1\n",
       "Name: floor, dtype: int64"
      ]
     },
     "execution_count": 7,
     "metadata": {},
     "output_type": "execute_result"
    }
   ],
   "source": [
    "data.floor.value_counts()"
   ]
  },
  {
   "cell_type": "code",
   "execution_count": 8,
   "id": "a5c946c5-b994-4c76-9380-badccfddb305",
   "metadata": {
    "tags": []
   },
   "outputs": [
    {
     "data": {
      "text/plain": [
       "0      2371\n",
       "1      1000\n",
       "2       952\n",
       "3       895\n",
       "4       727\n",
       "5       580\n",
       "6       530\n",
       "7       488\n",
       "8       486\n",
       "9       360\n",
       "10      352\n",
       "11      296\n",
       "12      255\n",
       "13      195\n",
       "14      168\n",
       "15      143\n",
       "16      108\n",
       "17       95\n",
       "18       74\n",
       "19       53\n",
       "20       43\n",
       "21       42\n",
       "22       24\n",
       "23       23\n",
       "25       19\n",
       "24       18\n",
       "26       13\n",
       "27        8\n",
       "28        5\n",
       "29        5\n",
       "32        2\n",
       "35        1\n",
       "46        1\n",
       "301       1\n",
       "51        1\n",
       "Name: floor, dtype: int64"
      ]
     },
     "execution_count": 8,
     "metadata": {},
     "output_type": "execute_result"
    }
   ],
   "source": [
    "data.loc[data.floor == '-', 'floor'] = 0\n",
    "\n",
    "data.floor.value_counts()"
   ]
  },
  {
   "cell_type": "markdown",
   "id": "140adeb3-fa1a-46b2-9fc2-e957504d55d0",
   "metadata": {},
   "source": [
    "Agora, iremos converter o data type das colunas que trabalhamos para unit8:"
   ]
  },
  {
   "cell_type": "code",
   "execution_count": 9,
   "id": "dfe18f6a-8b33-4990-b40e-7be896c1a06a",
   "metadata": {
    "tags": []
   },
   "outputs": [
    {
     "name": "stdout",
     "output_type": "stream",
     "text": [
      "<class 'pandas.core.frame.DataFrame'>\n",
      "Int64Index: 10334 entries, 0 to 10691\n",
      "Data columns (total 17 columns):\n",
      " #   Column               Non-Null Count  Dtype\n",
      "---  ------               --------------  -----\n",
      " 0   area                 10334 non-null  int64\n",
      " 1   rooms                10334 non-null  int64\n",
      " 2   bathroom             10334 non-null  int64\n",
      " 3   parking spaces       10334 non-null  int64\n",
      " 4   floor                10334 non-null  uint8\n",
      " 5   animal               10334 non-null  uint8\n",
      " 6   furniture            10334 non-null  uint8\n",
      " 7   hoa (R$)             10334 non-null  int64\n",
      " 8   rent amount (R$)     10334 non-null  int64\n",
      " 9   property tax (R$)    10334 non-null  int64\n",
      " 10  fire insurance (R$)  10334 non-null  int64\n",
      " 11  total (R$)           10334 non-null  int64\n",
      " 12  city_Belo Horizonte  10334 non-null  uint8\n",
      " 13  city_Campinas        10334 non-null  uint8\n",
      " 14  city_Porto Alegre    10334 non-null  uint8\n",
      " 15  city_Rio de Janeiro  10334 non-null  uint8\n",
      " 16  city_São Paulo       10334 non-null  uint8\n",
      "dtypes: int64(9), uint8(8)\n",
      "memory usage: 1.1 MB\n"
     ]
    }
   ],
   "source": [
    "data = data.astype({ 'floor': 'uint8', 'animal': 'uint8', 'furniture': 'uint8' })\n",
    "\n",
    "data.info()"
   ]
  },
  {
   "cell_type": "markdown",
   "id": "109bbb16-8687-4c5e-863f-2eb80105d7b5",
   "metadata": {
    "tags": []
   },
   "source": [
    "Podemos notar nas informações acima que não temos colunas com valores nulos, logo, não precisaremos remover nenhuma entrada do DataFrame por esse motivo.\n",
    "\n",
    "Por fim, iremos remover '(R$)' do nome das colunas que a possuem para simplificar futuras referências, pois já sabemos que estamos trabalhando com Reais."
   ]
  },
  {
   "cell_type": "code",
   "execution_count": 10,
   "id": "d2517439-4755-4c40-94b5-51cd35bf5583",
   "metadata": {
    "tags": []
   },
   "outputs": [
    {
     "data": {
      "text/html": [
       "<div>\n",
       "<style scoped>\n",
       "    .dataframe tbody tr th:only-of-type {\n",
       "        vertical-align: middle;\n",
       "    }\n",
       "\n",
       "    .dataframe tbody tr th {\n",
       "        vertical-align: top;\n",
       "    }\n",
       "\n",
       "    .dataframe thead th {\n",
       "        text-align: right;\n",
       "    }\n",
       "</style>\n",
       "<table border=\"1\" class=\"dataframe\">\n",
       "  <thead>\n",
       "    <tr style=\"text-align: right;\">\n",
       "      <th></th>\n",
       "      <th>area</th>\n",
       "      <th>rooms</th>\n",
       "      <th>bathroom</th>\n",
       "      <th>parking spaces</th>\n",
       "      <th>floor</th>\n",
       "      <th>animal</th>\n",
       "      <th>furniture</th>\n",
       "      <th>hoa</th>\n",
       "      <th>rent amount</th>\n",
       "      <th>property tax</th>\n",
       "      <th>fire insurance</th>\n",
       "      <th>total</th>\n",
       "      <th>city_Belo Horizonte</th>\n",
       "      <th>city_Campinas</th>\n",
       "      <th>city_Porto Alegre</th>\n",
       "      <th>city_Rio de Janeiro</th>\n",
       "      <th>city_São Paulo</th>\n",
       "    </tr>\n",
       "  </thead>\n",
       "  <tbody>\n",
       "    <tr>\n",
       "      <th>0</th>\n",
       "      <td>70</td>\n",
       "      <td>2</td>\n",
       "      <td>1</td>\n",
       "      <td>1</td>\n",
       "      <td>7</td>\n",
       "      <td>1</td>\n",
       "      <td>1</td>\n",
       "      <td>2065</td>\n",
       "      <td>3300</td>\n",
       "      <td>211</td>\n",
       "      <td>42</td>\n",
       "      <td>5618</td>\n",
       "      <td>0</td>\n",
       "      <td>0</td>\n",
       "      <td>0</td>\n",
       "      <td>0</td>\n",
       "      <td>1</td>\n",
       "    </tr>\n",
       "    <tr>\n",
       "      <th>1</th>\n",
       "      <td>320</td>\n",
       "      <td>4</td>\n",
       "      <td>4</td>\n",
       "      <td>0</td>\n",
       "      <td>20</td>\n",
       "      <td>1</td>\n",
       "      <td>0</td>\n",
       "      <td>1200</td>\n",
       "      <td>4960</td>\n",
       "      <td>1750</td>\n",
       "      <td>63</td>\n",
       "      <td>7973</td>\n",
       "      <td>0</td>\n",
       "      <td>0</td>\n",
       "      <td>0</td>\n",
       "      <td>0</td>\n",
       "      <td>1</td>\n",
       "    </tr>\n",
       "    <tr>\n",
       "      <th>2</th>\n",
       "      <td>80</td>\n",
       "      <td>1</td>\n",
       "      <td>1</td>\n",
       "      <td>1</td>\n",
       "      <td>6</td>\n",
       "      <td>1</td>\n",
       "      <td>0</td>\n",
       "      <td>1000</td>\n",
       "      <td>2800</td>\n",
       "      <td>0</td>\n",
       "      <td>41</td>\n",
       "      <td>3841</td>\n",
       "      <td>0</td>\n",
       "      <td>0</td>\n",
       "      <td>1</td>\n",
       "      <td>0</td>\n",
       "      <td>0</td>\n",
       "    </tr>\n",
       "    <tr>\n",
       "      <th>3</th>\n",
       "      <td>51</td>\n",
       "      <td>2</td>\n",
       "      <td>1</td>\n",
       "      <td>0</td>\n",
       "      <td>2</td>\n",
       "      <td>1</td>\n",
       "      <td>0</td>\n",
       "      <td>270</td>\n",
       "      <td>1112</td>\n",
       "      <td>22</td>\n",
       "      <td>17</td>\n",
       "      <td>1421</td>\n",
       "      <td>0</td>\n",
       "      <td>0</td>\n",
       "      <td>1</td>\n",
       "      <td>0</td>\n",
       "      <td>0</td>\n",
       "    </tr>\n",
       "    <tr>\n",
       "      <th>4</th>\n",
       "      <td>25</td>\n",
       "      <td>1</td>\n",
       "      <td>1</td>\n",
       "      <td>0</td>\n",
       "      <td>1</td>\n",
       "      <td>0</td>\n",
       "      <td>0</td>\n",
       "      <td>0</td>\n",
       "      <td>800</td>\n",
       "      <td>25</td>\n",
       "      <td>11</td>\n",
       "      <td>836</td>\n",
       "      <td>0</td>\n",
       "      <td>0</td>\n",
       "      <td>0</td>\n",
       "      <td>0</td>\n",
       "      <td>1</td>\n",
       "    </tr>\n",
       "  </tbody>\n",
       "</table>\n",
       "</div>"
      ],
      "text/plain": [
       "   area  rooms  bathroom  parking spaces  floor  animal  furniture   hoa  \\\n",
       "0    70      2         1               1      7       1          1  2065   \n",
       "1   320      4         4               0     20       1          0  1200   \n",
       "2    80      1         1               1      6       1          0  1000   \n",
       "3    51      2         1               0      2       1          0   270   \n",
       "4    25      1         1               0      1       0          0     0   \n",
       "\n",
       "   rent amount  property tax  fire insurance  total  city_Belo Horizonte  \\\n",
       "0         3300           211              42   5618                    0   \n",
       "1         4960          1750              63   7973                    0   \n",
       "2         2800             0              41   3841                    0   \n",
       "3         1112            22              17   1421                    0   \n",
       "4          800            25              11    836                    0   \n",
       "\n",
       "   city_Campinas  city_Porto Alegre  city_Rio de Janeiro  city_São Paulo  \n",
       "0              0                  0                    0               1  \n",
       "1              0                  0                    0               1  \n",
       "2              0                  1                    0               0  \n",
       "3              0                  1                    0               0  \n",
       "4              0                  0                    0               1  "
      ]
     },
     "execution_count": 10,
     "metadata": {},
     "output_type": "execute_result"
    }
   ],
   "source": [
    "data = data.rename(lambda d: d.replace('(R$)', '').strip(), axis='columns')\n",
    "\n",
    "data.head()"
   ]
  },
  {
   "cell_type": "markdown",
   "id": "5b1f6c1a-7433-46ac-99d6-9d9d82bb95fe",
   "metadata": {},
   "source": [
    "## Análise e detecção de outliers\n",
    "\n",
    "Iremos começar com a detecção de outliers a partir da coluna 'total':"
   ]
  },
  {
   "cell_type": "code",
   "execution_count": 11,
   "id": "53d1798e-1a42-41e3-868d-0e37fec128e3",
   "metadata": {
    "tags": []
   },
   "outputs": [
    {
     "data": {
      "text/plain": [
       "<matplotlib.collections.PathCollection at 0x7f7a43a12890>"
      ]
     },
     "execution_count": 11,
     "metadata": {},
     "output_type": "execute_result"
    },
    {
     "data": {
      "image/png": "[encoded data removed]",
      "text/plain": [
       "<Figure size 640x480 with 1 Axes>"
      ]
     },
     "metadata": {},
     "output_type": "display_data"
    }
   ],
   "source": [
    "plt.scatter(data.total, data.total)"
   ]
  },
  {
   "cell_type": "code",
   "execution_count": 12,
   "id": "fb96b401-76f8-4e88-9101-1d859676de37",
   "metadata": {
    "tags": []
   },
   "outputs": [
    {
     "data": {
      "text/plain": [
       "255      1120000\n",
       "6645      316900\n",
       "6230      233200\n",
       "2859      222100\n",
       "2928       95610\n",
       "          ...   \n",
       "10218        545\n",
       "8183         509\n",
       "5152         508\n",
       "5876         507\n",
       "10627        499\n",
       "Name: total, Length: 10334, dtype: int64"
      ]
     },
     "execution_count": 12,
     "metadata": {},
     "output_type": "execute_result"
    }
   ],
   "source": [
    "data.sort_values(by=['total'], ascending=False)['total']"
   ]
  },
  {
   "cell_type": "code",
   "execution_count": 13,
   "id": "9b3107de-7853-4d9b-b1d8-6a9afd5e4609",
   "metadata": {
    "tags": []
   },
   "outputs": [
    {
     "data": {
      "text/plain": [
       "<matplotlib.collections.PathCollection at 0x7f7a4350add0>"
      ]
     },
     "execution_count": 13,
     "metadata": {},
     "output_type": "execute_result"
    },
    {
     "data": {
      "image/png": "[encoded data removed]",
      "text/plain": [
       "<Figure size 640x480 with 1 Axes>"
      ]
     },
     "metadata": {},
     "output_type": "display_data"
    }
   ],
   "source": [
    "# outliers menores\n",
    "\n",
    "part_data = data[data.total <= 900]\n",
    "plt.scatter(part_data.total, part_data.total, s=1)"
   ]
  },
  {
   "cell_type": "markdown",
   "id": "c1227d4e-9d30-42fc-aa67-7f4e369a2e1a",
   "metadata": {},
   "source": [
    "Podemos notar que temos alguns outliers na coluna 'total', iremos manter todos os outliers com total entre 750 e 20000:"
   ]
  },
  {
   "cell_type": "code",
   "execution_count": 14,
   "id": "0b8f3f31-9631-48a7-af34-90becd84e23f",
   "metadata": {
    "tags": []
   },
   "outputs": [
    {
     "data": {
      "text/plain": [
       "428     19990\n",
       "5278    19940\n",
       "9452    19940\n",
       "3716    19890\n",
       "4008    19860\n",
       "        ...  \n",
       "3702      760\n",
       "7553      760\n",
       "216       760\n",
       "960       760\n",
       "4850      756\n",
       "Name: total, Length: 10162, dtype: int64"
      ]
     },
     "execution_count": 14,
     "metadata": {},
     "output_type": "execute_result"
    }
   ],
   "source": [
    "data = data[data.total.between(750, 20000)]\n",
    "\n",
    "data.sort_values(by=['total'], ascending=False)['total']"
   ]
  },
  {
   "cell_type": "markdown",
   "id": "2fd43cc7-bce4-4a16-a4bd-b23491564017",
   "metadata": {},
   "source": [
    "Agora iremos investigar a coluna 'area' por outliers:"
   ]
  },
  {
   "cell_type": "code",
   "execution_count": 15,
   "id": "ec401e30-7985-4831-9604-510f441176f1",
   "metadata": {
    "tags": []
   },
   "outputs": [
    {
     "data": {
      "text/plain": [
       "<matplotlib.collections.PathCollection at 0x7f7a42920a90>"
      ]
     },
     "execution_count": 15,
     "metadata": {},
     "output_type": "execute_result"
    },
    {
     "data": {
      "image/png": "[encoded data removed]",
      "text/plain": [
       "<Figure size 640x480 with 1 Axes>"
      ]
     },
     "metadata": {},
     "output_type": "display_data"
    }
   ],
   "source": [
    "plt.scatter(data.area, data.area)"
   ]
  },
  {
   "cell_type": "code",
   "execution_count": 16,
   "id": "16017d46-738c-4798-bc96-30f4c8a59bd3",
   "metadata": {
    "tags": []
   },
   "outputs": [
    {
     "data": {
      "text/plain": [
       "<matplotlib.collections.PathCollection at 0x7f7a43338a90>"
      ]
     },
     "execution_count": 16,
     "metadata": {},
     "output_type": "execute_result"
    },
    {
     "data": {
      "image/png": "[encoded data removed]",
      "text/plain": [
       "<Figure size 640x480 with 1 Axes>"
      ]
     },
     "metadata": {},
     "output_type": "display_data"
    }
   ],
   "source": [
    "part_data = data[data.area <= 1000]\n",
    "plt.scatter(part_data.area, part_data.area)"
   ]
  },
  {
   "cell_type": "markdown",
   "id": "729043a7-f8ae-409f-a4f4-5b25c8b47f91",
   "metadata": {},
   "source": [
    "Podemos observar mais outliers na coluna 'area', iremos remover todos os outliers com area maior que 800:"
   ]
  },
  {
   "cell_type": "code",
   "execution_count": 17,
   "id": "19dd002a-1458-4a66-a98a-03412d1647e4",
   "metadata": {
    "tags": []
   },
   "outputs": [
    {
     "data": {
      "text/plain": [
       "785       11\n",
       "6784      12\n",
       "1588      13\n",
       "4864      13\n",
       "340       15\n",
       "        ... \n",
       "10380    800\n",
       "7606     800\n",
       "5949     800\n",
       "8858     800\n",
       "2747     800\n",
       "Name: area, Length: 10125, dtype: int64"
      ]
     },
     "execution_count": 17,
     "metadata": {},
     "output_type": "execute_result"
    }
   ],
   "source": [
    "data = data[data.area <= 800]\n",
    "\n",
    "data.sort_values(by=['area'])['area']"
   ]
  },
  {
   "cell_type": "markdown",
   "id": "8ffc2039-64fe-4903-94df-0d0b3d4811c8",
   "metadata": {},
   "source": [
    "## Salvar dados tratados para as próximas etapas"
   ]
  },
  {
   "cell_type": "code",
   "execution_count": 18,
   "id": "dc873dac-1759-4935-b006-632a707e56e5",
   "metadata": {
    "tags": []
   },
   "outputs": [],
   "source": [
    "data.to_csv('../csv-data/tratado_houses_to_rent_v2.csv', index=False)"
   ]
  },
  {
   "cell_type": "markdown",
   "id": "501de9f5-8209-4cbc-aa64-100a5ab43fdf",
   "metadata": {},
   "source": [
    "Agora que temos nossos dados tratados e salvos, iremos continuar com o processo de exploração de dados no próximo notebook, durante a exploração, poderemos notar novos pontos de tratamento de dados que devemos nos atentar, logo, este notebook serve para demonstrar um tratamento inicial dos dados."
   ]
  }
 ],
 "metadata": {
  "kernelspec": {
   "display_name": "Python 3 (ipykernel)",
   "language": "python",
   "name": "python3"
  },
  "language_info": {
   "codemirror_mode": {
    "name": "ipython",
    "version": 3
   },
   "file_extension": ".py",
   "mimetype": "text/x-python",
   "name": "python",
   "nbconvert_exporter": "python",
   "pygments_lexer": "ipython3",
   "version": "3.11.3"
  }
 },
 "nbformat": 4,
 "nbformat_minor": 5
}
